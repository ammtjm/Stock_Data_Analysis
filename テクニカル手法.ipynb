{
 "cells": [
  {
   "attachments": {},
   "cell_type": "markdown",
   "metadata": {},
   "source": [
    "# テクニカル手法を用いた簡単な売買シミュレーションを実施\n",
    "参考文献: Pythonから始めるアルゴリズムトレード"
   ]
  },
  {
   "cell_type": "code",
   "execution_count": 22,
   "metadata": {},
   "outputs": [],
   "source": [
    "#ライブラリのインポート\n",
    "import plotly.graph_objects as go\n",
    "import polars as pl\n",
    "import pandas as pd\n",
    "import pandas_ta as ta\n",
    "import sys\n",
    "from yahoo_finance_api2 import share\n",
    "from yahoo_finance_api2.exceptions import YahooFinanceError\n",
    "from scipy import stats\n",
    "import talib\n",
    "import numpy as np"
   ]
  },
  {
   "cell_type": "code",
   "execution_count": 30,
   "metadata": {},
   "outputs": [
    {
     "data": {
      "text/html": [
       "<div>\n",
       "<style scoped>\n",
       "    .dataframe tbody tr th:only-of-type {\n",
       "        vertical-align: middle;\n",
       "    }\n",
       "\n",
       "    .dataframe tbody tr th {\n",
       "        vertical-align: top;\n",
       "    }\n",
       "\n",
       "    .dataframe thead th {\n",
       "        text-align: right;\n",
       "    }\n",
       "</style>\n",
       "<table border=\"1\" class=\"dataframe\">\n",
       "  <thead>\n",
       "    <tr style=\"text-align: right;\">\n",
       "      <th></th>\n",
       "      <th>timestamp</th>\n",
       "      <th>open</th>\n",
       "      <th>high</th>\n",
       "      <th>low</th>\n",
       "      <th>close</th>\n",
       "      <th>volume</th>\n",
       "      <th>datetime</th>\n",
       "    </tr>\n",
       "  </thead>\n",
       "  <tbody>\n",
       "    <tr>\n",
       "      <th>0</th>\n",
       "      <td>-157420800000</td>\n",
       "      <td>1257.719971</td>\n",
       "      <td>1257.719971</td>\n",
       "      <td>1257.719971</td>\n",
       "      <td>1257.719971</td>\n",
       "      <td>0.0</td>\n",
       "      <td>1965-01-05</td>\n",
       "    </tr>\n",
       "    <tr>\n",
       "      <th>1</th>\n",
       "      <td>-157334400000</td>\n",
       "      <td>1263.989990</td>\n",
       "      <td>1263.989990</td>\n",
       "      <td>1263.989990</td>\n",
       "      <td>1263.989990</td>\n",
       "      <td>0.0</td>\n",
       "      <td>1965-01-06</td>\n",
       "    </tr>\n",
       "    <tr>\n",
       "      <th>2</th>\n",
       "      <td>-157248000000</td>\n",
       "      <td>1274.270020</td>\n",
       "      <td>1274.270020</td>\n",
       "      <td>1274.270020</td>\n",
       "      <td>1274.270020</td>\n",
       "      <td>0.0</td>\n",
       "      <td>1965-01-07</td>\n",
       "    </tr>\n",
       "    <tr>\n",
       "      <th>3</th>\n",
       "      <td>-157161600000</td>\n",
       "      <td>1286.430054</td>\n",
       "      <td>1286.430054</td>\n",
       "      <td>1286.430054</td>\n",
       "      <td>1286.430054</td>\n",
       "      <td>0.0</td>\n",
       "      <td>1965-01-08</td>\n",
       "    </tr>\n",
       "    <tr>\n",
       "      <th>4</th>\n",
       "      <td>-156902400000</td>\n",
       "      <td>NaN</td>\n",
       "      <td>NaN</td>\n",
       "      <td>NaN</td>\n",
       "      <td>NaN</td>\n",
       "      <td>NaN</td>\n",
       "      <td>1965-01-11</td>\n",
       "    </tr>\n",
       "  </tbody>\n",
       "</table>\n",
       "</div>"
      ],
      "text/plain": [
       "      timestamp         open         high          low        close  volume  \\\n",
       "0 -157420800000  1257.719971  1257.719971  1257.719971  1257.719971     0.0   \n",
       "1 -157334400000  1263.989990  1263.989990  1263.989990  1263.989990     0.0   \n",
       "2 -157248000000  1274.270020  1274.270020  1274.270020  1274.270020     0.0   \n",
       "3 -157161600000  1286.430054  1286.430054  1286.430054  1286.430054     0.0   \n",
       "4 -156902400000          NaN          NaN          NaN          NaN     NaN   \n",
       "\n",
       "    datetime  \n",
       "0 1965-01-05  \n",
       "1 1965-01-06  \n",
       "2 1965-01-07  \n",
       "3 1965-01-08  \n",
       "4 1965-01-11  "
      ]
     },
     "execution_count": 30,
     "metadata": {},
     "output_type": "execute_result"
    }
   ],
   "source": [
    "#pandas_taを用いて、テクニカル手法のバックテストを行う\n",
    "# まず、データの取得を行う\n",
    "# ここでは、yahoo_finance_api2を用いて、株価データを取得する\n",
    "# ここでは、日経平均株価のデータを取得する\n",
    "#データの取得,ここではyahoo financeのapiを使用し、日経平均株価を取得\n",
    "#データフレームに変換\n",
    "y_share = share.Share(\"^N225\")\n",
    "symbol_data = None\n",
    "try:\n",
    "    symbol_data = y_share.get_historical(\n",
    "    share.PERIOD_TYPE_YEAR, 100,\n",
    "    share.FREQUENCY_TYPE_DAY, 1)\n",
    "except YahooFinanceError as e:\n",
    "    print(e.message)\n",
    "    sys.exit(1)\n",
    "df = pd.DataFrame(symbol_data)\n",
    "df[\"datetime\"] = pd.to_datetime(df.timestamp, unit=\"ms\")\n",
    "df.head()\n",
    "\n"
   ]
  },
  {
   "cell_type": "code",
   "execution_count": 31,
   "metadata": {},
   "outputs": [
    {
     "ename": "AttributeError",
     "evalue": "'Series' object has no attribute 'append'",
     "output_type": "error",
     "traceback": [
      "\u001b[0;31m---------------------------------------------------------------------------\u001b[0m",
      "\u001b[0;31mRemoteTraceback\u001b[0m                           Traceback (most recent call last)",
      "\u001b[0;31mRemoteTraceback\u001b[0m: \n\"\"\"\nTraceback (most recent call last):\n  File \"/usr/local/lib/python3.9/multiprocessing/pool.py\", line 125, in worker\n    result = (True, func(*args, **kwds))\n  File \"/usr/local/lib/python3.9/multiprocessing/pool.py\", line 48, in mapstar\n    return list(map(*args))\n  File \"/usr/local/lib/python3.9/site-packages/pandas_ta/core.py\", line 429, in _mp_worker\n    >>> chart_lines = np.append(np.arange(-4, 5, 1), np.arange(-100, 110, 10))\n  File \"/usr/local/lib/python3.9/site-packages/pandas_ta/core.py\", line 1064, in mcgd\n    close = self._get_column(kwargs.pop(\"close\", \"close\"))\n  File \"/usr/local/lib/python3.9/site-packages/pandas_ta/overlap/mcgd.py\", line 22, in mcgd\n    of the calculation, the Dynamic Line speeds up in down markets as it\n  File \"/usr/local/lib/python3.9/site-packages/pandas/core/generic.py\", line 5989, in __getattr__\n    return object.__getattribute__(self, name)\nAttributeError: 'Series' object has no attribute 'append'\n\"\"\"",
      "\nThe above exception was the direct cause of the following exception:\n",
      "\u001b[0;31mAttributeError\u001b[0m                            Traceback (most recent call last)",
      "Cell \u001b[0;32mIn[31], line 11\u001b[0m\n\u001b[1;32m      8\u001b[0m df\u001b[38;5;241m.\u001b[39misnull()\u001b[38;5;241m.\u001b[39msum()\n\u001b[1;32m     10\u001b[0m \u001b[38;5;66;03m#pandas_taのアトリビュート一覧を表示\u001b[39;00m\n\u001b[0;32m---> 11\u001b[0m \u001b[43mdf\u001b[49m\u001b[38;5;241;43m.\u001b[39;49m\u001b[43mta\u001b[49m\u001b[38;5;241;43m.\u001b[39;49m\u001b[43mstrategy\u001b[49m\u001b[43m(\u001b[49m\u001b[43mta\u001b[49m\u001b[38;5;241;43m.\u001b[39;49m\u001b[43mAllStrategy\u001b[49m\u001b[43m)\u001b[49m\n",
      "File \u001b[0;32m/usr/local/lib/python3.9/site-packages/pandas_ta/core.py:704\u001b[0m, in \u001b[0;36mAnalysisIndicators.strategy\u001b[0;34m(self, *args, **kwargs)\u001b[0m\n\u001b[1;32m    700\u001b[0m             \u001b[39mgetattr\u001b[39m(\u001b[39mself\u001b[39m, ind)(\u001b[39m*\u001b[39m\u001b[39mtuple\u001b[39m(), \u001b[39m*\u001b[39m\u001b[39m*\u001b[39mkwargs)\n\u001b[1;32m    702\u001b[0m \u001b[39m# Apply prefixes/suffixes and appends indicator results to the\u001b[39;00m\n\u001b[1;32m    703\u001b[0m \u001b[39m# DataFrame\u001b[39;00m\n\u001b[0;32m--> 704\u001b[0m [\u001b[39mself\u001b[39m\u001b[39m.\u001b[39m_post_process(r, \u001b[39m*\u001b[39m\u001b[39m*\u001b[39mkwargs) \u001b[39mfor\u001b[39;00m r \u001b[39min\u001b[39;00m results]\n\u001b[1;32m    706\u001b[0m \u001b[39mif\u001b[39;00m timed:\n\u001b[1;32m    707\u001b[0m     ftime \u001b[39m=\u001b[39m final_time(stime)\n",
      "File \u001b[0;32m/usr/local/lib/python3.9/site-packages/pandas_ta/core.py:704\u001b[0m, in \u001b[0;36m<listcomp>\u001b[0;34m(.0)\u001b[0m\n\u001b[1;32m    700\u001b[0m             \u001b[39mgetattr\u001b[39m(\u001b[39mself\u001b[39m, ind)(\u001b[39m*\u001b[39m\u001b[39mtuple\u001b[39m(), \u001b[39m*\u001b[39m\u001b[39m*\u001b[39mkwargs)\n\u001b[1;32m    702\u001b[0m \u001b[39m# Apply prefixes/suffixes and appends indicator results to the\u001b[39;00m\n\u001b[1;32m    703\u001b[0m \u001b[39m# DataFrame\u001b[39;00m\n\u001b[0;32m--> 704\u001b[0m [\u001b[39mself\u001b[39m\u001b[39m.\u001b[39m_post_process(r, \u001b[39m*\u001b[39m\u001b[39m*\u001b[39mkwargs) \u001b[39mfor\u001b[39;00m r \u001b[39min\u001b[39;00m results]\n\u001b[1;32m    706\u001b[0m \u001b[39mif\u001b[39;00m timed:\n\u001b[1;32m    707\u001b[0m     ftime \u001b[39m=\u001b[39m final_time(stime)\n",
      "File \u001b[0;32m/usr/local/lib/python3.9/multiprocessing/pool.py:448\u001b[0m, in \u001b[0;36m<genexpr>\u001b[0;34m(.0)\u001b[0m\n\u001b[1;32m    440\u001b[0m result \u001b[39m=\u001b[39m IMapUnorderedIterator(\u001b[39mself\u001b[39m)\n\u001b[1;32m    441\u001b[0m \u001b[39mself\u001b[39m\u001b[39m.\u001b[39m_taskqueue\u001b[39m.\u001b[39mput(\n\u001b[1;32m    442\u001b[0m     (\n\u001b[1;32m    443\u001b[0m         \u001b[39mself\u001b[39m\u001b[39m.\u001b[39m_guarded_task_generation(result\u001b[39m.\u001b[39m_job,\n\u001b[0;32m   (...)\u001b[0m\n\u001b[1;32m    446\u001b[0m         result\u001b[39m.\u001b[39m_set_length\n\u001b[1;32m    447\u001b[0m     ))\n\u001b[0;32m--> 448\u001b[0m \u001b[39mreturn\u001b[39;00m (item \u001b[39mfor\u001b[39;00m chunk \u001b[39min\u001b[39;00m result \u001b[39mfor\u001b[39;00m item \u001b[39min\u001b[39;00m chunk)\n",
      "File \u001b[0;32m/usr/local/lib/python3.9/multiprocessing/pool.py:870\u001b[0m, in \u001b[0;36mIMapIterator.next\u001b[0;34m(self, timeout)\u001b[0m\n\u001b[1;32m    868\u001b[0m \u001b[39mif\u001b[39;00m success:\n\u001b[1;32m    869\u001b[0m     \u001b[39mreturn\u001b[39;00m value\n\u001b[0;32m--> 870\u001b[0m \u001b[39mraise\u001b[39;00m value\n",
      "\u001b[0;31mAttributeError\u001b[0m: 'Series' object has no attribute 'append'"
     ]
    }
   ],
   "source": [
    "#dfでNanがある行を削除\n",
    "\n",
    "\n",
    "\n",
    "#dfのカラムに0がある行を削除\n",
    "df=df[df.isin([0]).any(axis=1)]\n",
    "#dfのカラムに0があるか確認\n",
    "df.isin([0]).sum()\n",
    "#dfのカラムにNanがあるか確認\n",
    "df.isnull().sum()\n",
    "\n",
    "#pandas_taのアトリビュート一覧を表示\n",
    "df.ta.strategy(ta.AllStrategy)\n"
   ]
  }
 ],
 "metadata": {
  "kernelspec": {
   "display_name": "Python 3.9.17 64-bit",
   "language": "python",
   "name": "python3"
  },
  "language_info": {
   "codemirror_mode": {
    "name": "ipython",
    "version": 3
   },
   "file_extension": ".py",
   "mimetype": "text/x-python",
   "name": "python",
   "nbconvert_exporter": "python",
   "pygments_lexer": "ipython3",
   "version": "3.9.17"
  },
  "orig_nbformat": 4,
  "vscode": {
   "interpreter": {
    "hash": "949777d72b0d2535278d3dc13498b2535136f6dfe0678499012e853ee9abcab1"
   }
  }
 },
 "nbformat": 4,
 "nbformat_minor": 2
}
